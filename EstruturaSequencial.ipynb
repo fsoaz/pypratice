{
 "cells": [
  {
   "cell_type": "markdown",
   "metadata": {},
   "source": [
    "SOMA"
   ]
  },
  {
   "cell_type": "code",
   "execution_count": null,
   "metadata": {},
   "outputs": [],
   "source": [
    "num1 = int(input(\"n1\"))\n",
    "num2 = int(input(\"n2\"))\n",
    "soma = num1+num2\n",
    "print(f\"resposta {soma}\")"
   ]
  },
  {
   "cell_type": "markdown",
   "metadata": {},
   "source": [
    "CALCULO BASAL"
   ]
  },
  {
   "cell_type": "code",
   "execution_count": null,
   "metadata": {},
   "outputs": [],
   "source": [
    "massa = float(input(\"Seu peso \"))\n",
    "altura = float(input(\"Sua altura \"))\n",
    "idade = float(input(\"Sua idade \"))\n",
    "calorias = (66+(13.7*massa)+(5*altura)-(6.8*idade))\n",
    "print(f\"Gasto de calorias basal: {calorias}\")"
   ]
  },
  {
   "cell_type": "markdown",
   "metadata": {},
   "source": [
    "MEDIA NOTAS"
   ]
  },
  {
   "cell_type": "code",
   "execution_count": null,
   "metadata": {},
   "outputs": [],
   "source": [
    "nota1 = float(input(\"nota 1 \"))\n",
    "nota2 = float(input(\"nota 2 \"))\n",
    "nota3 = float(input(\"nota 3 \"))\n",
    "nota4 = float(input(\"nota 4 \"))\n",
    "soma = nota1+nota2+nota3+nota4\n",
    "media = soma/4\n",
    "print(f\"Esse vagabundo tirou: {media}\")"
   ]
  },
  {
   "cell_type": "markdown",
   "metadata": {},
   "source": [
    "M para CM"
   ]
  },
  {
   "cell_type": "code",
   "execution_count": null,
   "metadata": {},
   "outputs": [],
   "source": [
    "metros = float(input(\"Insira o valor em metros: \"))\n",
    "x = metros * 100\n",
    "print(f\"{x} Centimetros\")"
   ]
  },
  {
   "cell_type": "markdown",
   "metadata": {},
   "source": [
    "Area circulo"
   ]
  },
  {
   "cell_type": "code",
   "execution_count": null,
   "metadata": {},
   "outputs": [],
   "source": [
    "import math\n",
    "\n",
    "raio = float(input(\"Insira o raio: \"))\n",
    "area = math.pi*(raio**2)\n",
    "print(f\"Area do circulo: {area:.2f}\")"
   ]
  },
  {
   "cell_type": "markdown",
   "metadata": {},
   "source": [
    "Area quadrado   "
   ]
  },
  {
   "cell_type": "code",
   "execution_count": null,
   "metadata": {},
   "outputs": [],
   "source": [
    "import math\n",
    "\n",
    "c = float(input(\"Comprimento: \"))\n",
    "b = float(input(\"Base: \"))\n",
    "area = c*b\n",
    "print(f\"area do quadrado: {area*2}\")"
   ]
  },
  {
   "cell_type": "markdown",
   "metadata": {},
   "source": [
    "Salário mensal"
   ]
  },
  {
   "cell_type": "code",
   "execution_count": null,
   "metadata": {},
   "outputs": [],
   "source": [
    "h = float(input(\"Quanto voce ganha por hora: \"))\n",
    "t = float(input(\"Horas trabalhadas por mês: \"))\n",
    "sal = h*t\n",
    "print(f\"Sua mixaria é: {sal}\")"
   ]
  },
  {
   "cell_type": "markdown",
   "metadata": {},
   "source": [
    "Fahrenheit to Celsius"
   ]
  },
  {
   "cell_type": "code",
   "execution_count": null,
   "metadata": {},
   "outputs": [],
   "source": [
    "F = float(input(\"Temperatura em Fahrenheit: \"))\n",
    "C = 5 * ((F-32) / 9)\n",
    "print(f\"{C} em celsius\")"
   ]
  },
  {
   "cell_type": "markdown",
   "metadata": {},
   "source": [
    "Celsius to Fahrenheit"
   ]
  },
  {
   "cell_type": "code",
   "execution_count": null,
   "metadata": {},
   "outputs": [],
   "source": [
    "C = float(input(\"Temperatura em Celsius: \"))\n",
    "F = (9*C)/5+32\n",
    "print(f\"Equivale a {F} em Fahrenheit\")"
   ]
  },
  {
   "cell_type": "markdown",
   "metadata": {},
   "source": [
    "Reais e Inteiros"
   ]
  },
  {
   "cell_type": "code",
   "execution_count": null,
   "metadata": {},
   "outputs": [],
   "source": [
    "#Faça um Programa que peça 2 números inteiros e um número real. Calcule e mostre:\n",
    "#o produto do dobro do primeiro com metade do segundo .\n",
    "#a soma do triplo do primeiro com o terceiro.\n",
    "#o terceiro elevado ao cubo.\n",
    "\n",
    "I = int(input(\"Digite um número inteiro: \"))\n",
    "I1 = int(input(\"Digite um número inteiro: \"))\n",
    "R = float(input(\"Um número real: \"))\n",
    "X = (2*I) * (I1/2)\n",
    "Y = 3*I + R\n",
    "Z = R**3\n",
    "print(f\"Letra A: {X}\")\n",
    "print(f\"Letra B: {Y}\")\n",
    "print(f\"Letra C: {Z}\")"
   ]
  },
  {
   "cell_type": "markdown",
   "metadata": {},
   "source": [
    "Peso ideal"
   ]
  },
  {
   "cell_type": "code",
   "execution_count": null,
   "metadata": {},
   "outputs": [],
   "source": [
    "Sexo = int(input(\"Insert 1 for male and 2 for famale \"))\n",
    "Altura = float(input(\"Height: \"))\n",
    "X =  (72.7*Altura) - 58\n",
    "Y = (62.1*Altura) - 44.7\n",
    "if Sexo == 1:\n",
    "    print(f\"Ideal Weight for men {X}kg\")\n",
    "else:\n",
    "    print(f\"Ideal weight for woman {Y:.2f}kg\")"
   ]
  },
  {
   "cell_type": "markdown",
   "metadata": {},
   "source": [
    "Peixe do João"
   ]
  },
  {
   "cell_type": "code",
   "execution_count": null,
   "metadata": {},
   "outputs": [],
   "source": [
    "Peso = float(input(\"Peso do peixe: \"))\n",
    "X = Peso-50.00\n",
    "Multa = X*4\n",
    "if Peso > 50.00:\n",
    "    print(f\"Quantidade excedida: {X:.2f} Kg\")\n",
    "    print(f\"Valor da multa: R$ {Multa:.2f}\")\n",
    "else:\n",
    "    print(f\"Quantidade excedida: {X:.2f} Kg\")\n",
    "    print(f\"Valor da multa: R$ {Multa:.2f}\")"
   ]
  },
  {
   "cell_type": "markdown",
   "metadata": {},
   "source": [
    "Salário bruto"
   ]
  },
  {
   "cell_type": "code",
   "execution_count": null,
   "metadata": {},
   "outputs": [],
   "source": [
    "x = int(input(\"Quanto você ganha por hora: \"))\n",
    "y = int(input(\"Horas trabalhadas: \"))\n",
    "salb = (x * y)\n",
    "ir = salb * 0.11\n",
    "inss = salb * 0.08\n",
    "sind = salb * 0.05\n",
    "desc = ir + inss + sind\n",
    "sall = salb - desc\n",
    "print(f\"{salb}\")\n",
    "print(f\"Imposto de renda (11%): R$ {ir}\")\n",
    "print(f\"INSS (8%): R$ {inss}\")\n",
    "print(f\"Sindicato (5%): R$ {sind}\")\n",
    "print(f\"Salário liquido: R$ {sall}\")"
   ]
  },
  {
   "cell_type": "markdown",
   "metadata": {},
   "source": [
    "Loja de tintas"
   ]
  },
  {
   "cell_type": "code",
   "execution_count": null,
   "metadata": {},
   "outputs": [],
   "source": [
    "area = float(input(\"Tamanho da área à ser pintada: \"))\n",
    "litros = area / 3.0\n",
    "latas = int(litros / 18.0)\n",
    "if litros%18 != 0: \n",
    "    latas += 1\n",
    "\n",
    "preco = latas * 80.0\n",
    "print(f\"Litros necessários: {litros}\")\n",
    "print(f\"Quantidade de latas: {latas}\")\n",
    "print(f\"Total à pagar: R$ {preco}\")"
   ]
  },
  {
   "cell_type": "markdown",
   "metadata": {},
   "source": [
    "Loja de tintas 2"
   ]
  },
  {
   "cell_type": "code",
   "execution_count": null,
   "metadata": {},
   "outputs": [],
   "source": [
    "'''\n",
    "1l p/ 6 metros\n",
    "1 lata - 18 litros\n",
    "1 lata - 80 reais\n",
    "3,6 litros - galão\n",
    "custam 25\n",
    "\n",
    "entrada area: \n",
    "\n",
    "saida:\n",
    "Informe ao usuário as quantidades de tinta a serem compradas e os respectivos preços em 3 situações:\n",
    "comprar apenas latas de 18 litros;\n",
    "comprar apenas galões de 3,6 litros;\n",
    "misturar latas e galões, de forma que o desperdício de tinta seja menor. Acrescente 10% de folga e sempre arredonde os valores para cima, isto é, considere latas cheias'''\n",
    "\n",
    "area = float(input(\"Tamanho da área à ser pintada: \"))\n",
    "litros = area / 6.0\n",
    "\n",
    "latas = int(litros / 18.0)\n",
    "if latas % 18.0 != 1: \n",
    "    latas += 1\n",
    "precol = latas * 80\n",
    "\n",
    "galao = int(litros / 3.6)\n",
    "if galao % 3.6 != 0: \n",
    "    galao += 1\n",
    "    precog = galao * 25\n",
    "\n",
    "mistural = (litros / 18.0)\n",
    "misturag = int((litros - (mistural * 18.0)) / 3.6)\n",
    "if litros - (mistural * 18.0) % 3.6 != 0:\n",
    "    misturag += 1\n",
    "\n",
    "print(f\"Latas de 18 litros: {(latas)} pelo valor de {precol} reais\")\n",
    "print(f\"Galões de 3,6 litros: {(galao)} pelo valor de {precog} reais\")\n",
    "print(f\"Mistura de latas  {int(mistural * 1.1)}  mistura galoes: {(misturag * 1.1)}\") #add preço"
   ]
  },
  {
   "cell_type": "markdown",
   "metadata": {},
   "source": [
    "Download do arquivo"
   ]
  },
  {
   "cell_type": "code",
   "execution_count": null,
   "metadata": {},
   "outputs": [],
   "source": [
    "size = float(input(\"Qual o tamanho do arquivo (em MB): \"))\n",
    "speed = float(input(\"Velocidade da banda (Mbps): \"))\n",
    "X = size / (speed / 8)\n",
    "T = X / 60\n",
    "print(f\"Tempo de download estimado: {T:.2f} minutos\")"
   ]
  }
 ],
 "metadata": {
  "kernelspec": {
   "display_name": "Python 3",
   "language": "python",
   "name": "python3"
  },
  "language_info": {
   "codemirror_mode": {
    "name": "ipython",
    "version": 3
   },
   "file_extension": ".py",
   "mimetype": "text/x-python",
   "name": "python",
   "nbconvert_exporter": "python",
   "pygments_lexer": "ipython3",
   "version": "3.12.2"
  }
 },
 "nbformat": 4,
 "nbformat_minor": 2
}
